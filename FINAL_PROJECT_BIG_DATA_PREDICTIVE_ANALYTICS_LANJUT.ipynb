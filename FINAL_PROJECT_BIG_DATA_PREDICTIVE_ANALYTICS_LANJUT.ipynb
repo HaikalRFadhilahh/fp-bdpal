{
  "cells": [
    {
      "cell_type": "markdown",
      "metadata": {
        "id": "4JpCflNIfbEl"
      },
      "source": [
        "<h1><b>FINAL PROJECT BIG DATA PREDICTIVE ANALYTICS LANJUT</b></h1>\n",
        "  <p><b>ANGGOTA KELOMPOK : </b><p>\n",
        "<ul>\n",
        "  <li>Haikal Raditya Fadhilah (21.11.3910)</li>\n",
        "  <li>Sulthan Asyarf Donison (21.11.3902)</li>\n",
        "  <li></li>\n",
        "  <li></li>\n",
        "<ul>"
      ]
    },
    {
      "cell_type": "markdown",
      "metadata": {
        "id": "iHMRgA1Yf0rd"
      },
      "source": [
        "<h2><b>INSTALL PYSPARK</b></h2>"
      ]
    },
    {
      "cell_type": "code",
      "execution_count": 469,
      "metadata": {
        "colab": {
          "base_uri": "https://localhost:8080/"
        },
        "id": "NV7n6zDkbLXD",
        "outputId": "9e292594-bffb-4e86-ff18-f64f68187fe0"
      },
      "outputs": [],
      "source": [
        "# !pip install pyspark"
      ]
    },
    {
      "cell_type": "markdown",
      "metadata": {},
      "source": [
        "<h2><b>IMPORT LIBRARY</b></h2>"
      ]
    },
    {
      "cell_type": "code",
      "execution_count": 470,
      "metadata": {},
      "outputs": [],
      "source": [
        "from pyspark.sql import SparkSession\n",
        "import pyspark\n",
        "from pyspark.sql.functions import col,isnan,when,count\n",
        "import seaborn as sns\n",
        "from matplotlib import pyplot as plt\n",
        "from pyspark.ml.stat import Correlation\n",
        "from pyspark.ml.feature import VectorAssembler\n",
        "import pandas as pd\n",
        "from pyspark.sql.types import FloatType,DoubleType"
      ]
    },
    {
      "cell_type": "markdown",
      "metadata": {},
      "source": [
        "<h2><b>CREATE SESSION SPARK</b></h2>"
      ]
    },
    {
      "cell_type": "code",
      "execution_count": 471,
      "metadata": {},
      "outputs": [],
      "source": [
        "spark = SparkSession.builder.getOrCreate()"
      ]
    },
    {
      "cell_type": "markdown",
      "metadata": {},
      "source": [
        "<h2><b>IMPORT DATASET</b></h2>"
      ]
    },
    {
      "cell_type": "code",
      "execution_count": 472,
      "metadata": {},
      "outputs": [],
      "source": [
        "path = './ShanghaiPM20100101_20151231.csv'\n",
        "df = spark.read.csv(path,inferSchema=True,header=True)"
      ]
    },
    {
      "cell_type": "markdown",
      "metadata": {},
      "source": [
        "<h2><b>PREPARE DATASET</b></h2>"
      ]
    },
    {
      "cell_type": "markdown",
      "metadata": {},
      "source": [
        "<h3><b>MELIHAT CONTOH DATASET</b></h3>"
      ]
    },
    {
      "cell_type": "code",
      "execution_count": 473,
      "metadata": {},
      "outputs": [
        {
          "name": "stdout",
          "output_type": "stream",
          "text": [
            "+---+----+-----+---+----+------+---------+----------+--------+----+-----+------+----+----+---+-------------+-----+\n",
            "| No|year|month|day|hour|season|PM_Jingan|PM_US Post|PM_Xuhui|DEWP| HUMI|  PRES|TEMP|cbwd|Iws|precipitation|Iprec|\n",
            "+---+----+-----+---+----+------+---------+----------+--------+----+-----+------+----+----+---+-------------+-----+\n",
            "|  1|2010|    1|  1|   0|     4|       NA|        NA|      NA|  -6|59.48|1026.1|   1|  cv|  1|            0|    0|\n",
            "|  2|2010|    1|  1|   1|     4|       NA|        NA|      NA|  -6|59.48|1025.1|   1|  SE|  2|            0|    0|\n",
            "|  3|2010|    1|  1|   2|     4|       NA|        NA|      NA|  -7|59.21|1025.1|   0|  SE|  4|            0|    0|\n",
            "|  4|2010|    1|  1|   3|     4|       NA|        NA|      NA|  -6|63.94|  1024|   0|  SE|  5|            0|    0|\n",
            "|  5|2010|    1|  1|   4|     4|       NA|        NA|      NA|  -6|63.94|  1023|   0|  SE|  8|            0|    0|\n",
            "+---+----+-----+---+----+------+---------+----------+--------+----+-----+------+----+----+---+-------------+-----+\n",
            "only showing top 5 rows\n",
            "\n"
          ]
        }
      ],
      "source": [
        "df.show(5)"
      ]
    },
    {
      "cell_type": "markdown",
      "metadata": {},
      "source": [
        "<h3><b>MENGHAPUS COLUMN YANG KURANG BERGUNA</b></h3>"
      ]
    },
    {
      "cell_type": "code",
      "execution_count": 474,
      "metadata": {},
      "outputs": [],
      "source": [
        "df = df.drop('No','year','month','hour','day')"
      ]
    },
    {
      "cell_type": "markdown",
      "metadata": {},
      "source": [
        "<h3><b>MELIHAT JUMLAH KOLOM DAN BARIS DATASET</b></h3>"
      ]
    },
    {
      "cell_type": "code",
      "execution_count": 475,
      "metadata": {},
      "outputs": [
        {
          "name": "stdout",
          "output_type": "stream",
          "text": [
            "Jumlah Baris Dalam Dataset : 52584 Baris\n",
            "Jumlah Kolom Dalam Dataset : 12\n"
          ]
        }
      ],
      "source": [
        "print(f\"Jumlah Baris Dalam Dataset : {df.count()} Baris\")\n",
        "print(f\"Jumlah Kolom Dalam Dataset : {len(df.columns)}\")"
      ]
    },
    {
      "cell_type": "markdown",
      "metadata": {},
      "source": [
        "<h3><b>MELIHAT TIPE DATA DARI SETIAP KOLOM</b></h3>"
      ]
    },
    {
      "cell_type": "code",
      "execution_count": 476,
      "metadata": {},
      "outputs": [
        {
          "name": "stdout",
          "output_type": "stream",
          "text": [
            "root\n",
            " |-- season: integer (nullable = true)\n",
            " |-- PM_Jingan: string (nullable = true)\n",
            " |-- PM_US Post: string (nullable = true)\n",
            " |-- PM_Xuhui: string (nullable = true)\n",
            " |-- DEWP: string (nullable = true)\n",
            " |-- HUMI: string (nullable = true)\n",
            " |-- PRES: string (nullable = true)\n",
            " |-- TEMP: string (nullable = true)\n",
            " |-- cbwd: string (nullable = true)\n",
            " |-- Iws: string (nullable = true)\n",
            " |-- precipitation: string (nullable = true)\n",
            " |-- Iprec: string (nullable = true)\n",
            "\n"
          ]
        }
      ],
      "source": [
        "df.printSchema()"
      ]
    },
    {
      "cell_type": "markdown",
      "metadata": {},
      "source": [
        "<h3><b>KONVERSI TIPE DATA UNTUK MENGHITUNG NILAI NULL</b></h3>"
      ]
    },
    {
      "cell_type": "code",
      "execution_count": 477,
      "metadata": {},
      "outputs": [],
      "source": [
        "numeric_columns = [\"season\",\"PM_Jingan\", \"PM_US Post\", \"PM_Xuhui\", \"DEWP\", \"HUMI\", \"PRES\", \"TEMP\", \"Iws\", \"precipitation\", \"Iprec\"]\n",
        "for col_name in numeric_columns:\n",
        "    df = df.withColumn(col_name, df[col_name].cast(FloatType()))"
      ]
    },
    {
      "cell_type": "markdown",
      "metadata": {},
      "source": [
        "<h3><b>LIHAT KEMBALI SEMUA TIPE DATA DARI DATASET</b></h3>"
      ]
    },
    {
      "cell_type": "code",
      "execution_count": 488,
      "metadata": {},
      "outputs": [
        {
          "name": "stdout",
          "output_type": "stream",
          "text": [
            "root\n",
            " |-- season: float (nullable = true)\n",
            " |-- PM_Jingan: float (nullable = true)\n",
            " |-- PM_US Post: float (nullable = true)\n",
            " |-- PM_Xuhui: float (nullable = true)\n",
            " |-- DEWP: float (nullable = true)\n",
            " |-- HUMI: float (nullable = true)\n",
            " |-- PRES: float (nullable = true)\n",
            " |-- TEMP: float (nullable = true)\n",
            " |-- cbwd: string (nullable = true)\n",
            " |-- Iws: float (nullable = true)\n",
            " |-- precipitation: float (nullable = true)\n",
            " |-- Iprec: float (nullable = true)\n",
            "\n"
          ]
        }
      ],
      "source": [
        "df.printSchema()"
      ]
    },
    {
      "cell_type": "markdown",
      "metadata": {},
      "source": [
        "<h3><b>MELIHAT DATA NULL DARI SETIAP KOLOM</b></h3>"
      ]
    },
    {
      "cell_type": "code",
      "execution_count": 478,
      "metadata": {},
      "outputs": [
        {
          "data": {
            "text/html": [
              "<div>\n",
              "<style scoped>\n",
              "    .dataframe tbody tr th:only-of-type {\n",
              "        vertical-align: middle;\n",
              "    }\n",
              "\n",
              "    .dataframe tbody tr th {\n",
              "        vertical-align: top;\n",
              "    }\n",
              "\n",
              "    .dataframe thead th {\n",
              "        text-align: right;\n",
              "    }\n",
              "</style>\n",
              "<table border=\"1\" class=\"dataframe\">\n",
              "  <thead>\n",
              "    <tr style=\"text-align: right;\">\n",
              "      <th></th>\n",
              "      <th>0</th>\n",
              "    </tr>\n",
              "  </thead>\n",
              "  <tbody>\n",
              "    <tr>\n",
              "      <th>season</th>\n",
              "      <td>0</td>\n",
              "    </tr>\n",
              "    <tr>\n",
              "      <th>PM_Jingan</th>\n",
              "      <td>27884</td>\n",
              "    </tr>\n",
              "    <tr>\n",
              "      <th>PM_US Post</th>\n",
              "      <td>18545</td>\n",
              "    </tr>\n",
              "    <tr>\n",
              "      <th>PM_Xuhui</th>\n",
              "      <td>27395</td>\n",
              "    </tr>\n",
              "    <tr>\n",
              "      <th>DEWP</th>\n",
              "      <td>13</td>\n",
              "    </tr>\n",
              "    <tr>\n",
              "      <th>HUMI</th>\n",
              "      <td>13</td>\n",
              "    </tr>\n",
              "    <tr>\n",
              "      <th>PRES</th>\n",
              "      <td>28</td>\n",
              "    </tr>\n",
              "    <tr>\n",
              "      <th>TEMP</th>\n",
              "      <td>13</td>\n",
              "    </tr>\n",
              "    <tr>\n",
              "      <th>cbwd</th>\n",
              "      <td>12</td>\n",
              "    </tr>\n",
              "    <tr>\n",
              "      <th>Iws</th>\n",
              "      <td>12</td>\n",
              "    </tr>\n",
              "    <tr>\n",
              "      <th>precipitation</th>\n",
              "      <td>4009</td>\n",
              "    </tr>\n",
              "    <tr>\n",
              "      <th>Iprec</th>\n",
              "      <td>4009</td>\n",
              "    </tr>\n",
              "  </tbody>\n",
              "</table>\n",
              "</div>"
            ],
            "text/plain": [
              "                   0\n",
              "season             0\n",
              "PM_Jingan      27884\n",
              "PM_US Post     18545\n",
              "PM_Xuhui       27395\n",
              "DEWP              13\n",
              "HUMI              13\n",
              "PRES              28\n",
              "TEMP              13\n",
              "cbwd              12\n",
              "Iws               12\n",
              "precipitation   4009\n",
              "Iprec           4009"
            ]
          },
          "execution_count": 478,
          "metadata": {},
          "output_type": "execute_result"
        }
      ],
      "source": [
        "df.select([count(when((col(c).isNull() | (col(c) == 'NA')), c)).alias(c) for c in df.columns]).toPandas().T"
      ]
    },
    {
      "cell_type": "markdown",
      "metadata": {},
      "source": [
        "<h3><b>MENGHAPUS DATA NULL ATAU 'NA'</b></h3>"
      ]
    },
    {
      "cell_type": "code",
      "execution_count": 479,
      "metadata": {},
      "outputs": [],
      "source": [
        "df = df.na.drop()"
      ]
    },
    {
      "cell_type": "markdown",
      "metadata": {},
      "source": [
        "<h3><b>CEK KEMBALI JUMLAH NULL</b></h3>"
      ]
    },
    {
      "cell_type": "code",
      "execution_count": 487,
      "metadata": {},
      "outputs": [
        {
          "name": "stderr",
          "output_type": "stream",
          "text": [
            "                                                                                \r"
          ]
        },
        {
          "data": {
            "text/html": [
              "<div>\n",
              "<style scoped>\n",
              "    .dataframe tbody tr th:only-of-type {\n",
              "        vertical-align: middle;\n",
              "    }\n",
              "\n",
              "    .dataframe tbody tr th {\n",
              "        vertical-align: top;\n",
              "    }\n",
              "\n",
              "    .dataframe thead th {\n",
              "        text-align: right;\n",
              "    }\n",
              "</style>\n",
              "<table border=\"1\" class=\"dataframe\">\n",
              "  <thead>\n",
              "    <tr style=\"text-align: right;\">\n",
              "      <th></th>\n",
              "      <th>0</th>\n",
              "    </tr>\n",
              "  </thead>\n",
              "  <tbody>\n",
              "    <tr>\n",
              "      <th>season</th>\n",
              "      <td>0</td>\n",
              "    </tr>\n",
              "    <tr>\n",
              "      <th>PM_Jingan</th>\n",
              "      <td>0</td>\n",
              "    </tr>\n",
              "    <tr>\n",
              "      <th>PM_US Post</th>\n",
              "      <td>0</td>\n",
              "    </tr>\n",
              "    <tr>\n",
              "      <th>PM_Xuhui</th>\n",
              "      <td>0</td>\n",
              "    </tr>\n",
              "    <tr>\n",
              "      <th>DEWP</th>\n",
              "      <td>0</td>\n",
              "    </tr>\n",
              "    <tr>\n",
              "      <th>HUMI</th>\n",
              "      <td>0</td>\n",
              "    </tr>\n",
              "    <tr>\n",
              "      <th>PRES</th>\n",
              "      <td>0</td>\n",
              "    </tr>\n",
              "    <tr>\n",
              "      <th>TEMP</th>\n",
              "      <td>0</td>\n",
              "    </tr>\n",
              "    <tr>\n",
              "      <th>cbwd</th>\n",
              "      <td>0</td>\n",
              "    </tr>\n",
              "    <tr>\n",
              "      <th>Iws</th>\n",
              "      <td>0</td>\n",
              "    </tr>\n",
              "    <tr>\n",
              "      <th>precipitation</th>\n",
              "      <td>0</td>\n",
              "    </tr>\n",
              "    <tr>\n",
              "      <th>Iprec</th>\n",
              "      <td>0</td>\n",
              "    </tr>\n",
              "  </tbody>\n",
              "</table>\n",
              "</div>"
            ],
            "text/plain": [
              "               0\n",
              "season         0\n",
              "PM_Jingan      0\n",
              "PM_US Post     0\n",
              "PM_Xuhui       0\n",
              "DEWP           0\n",
              "HUMI           0\n",
              "PRES           0\n",
              "TEMP           0\n",
              "cbwd           0\n",
              "Iws            0\n",
              "precipitation  0\n",
              "Iprec          0"
            ]
          },
          "execution_count": 487,
          "metadata": {},
          "output_type": "execute_result"
        }
      ],
      "source": [
        "df.select([count(when((col(c).isNull() | (col(c) == 'NA')), c)).alias(c) for c in df.columns]).toPandas().T"
      ]
    },
    {
      "cell_type": "markdown",
      "metadata": {},
      "source": [
        "<h2><b>DATA PRE-PROCESSING</b></h2>"
      ]
    },
    {
      "cell_type": "markdown",
      "metadata": {},
      "source": [
        "<h3><b>MELIHAT DATA 5 TERATAS</b></h3>"
      ]
    },
    {
      "cell_type": "code",
      "execution_count": 480,
      "metadata": {},
      "outputs": [
        {
          "name": "stdout",
          "output_type": "stream",
          "text": [
            "+------+---------+----------+--------+----+-----+------+----+----+----+-------------+-----+\n",
            "|season|PM_Jingan|PM_US Post|PM_Xuhui|DEWP| HUMI|  PRES|TEMP|cbwd| Iws|precipitation|Iprec|\n",
            "+------+---------+----------+--------+----+-----+------+----+----+----+-------------+-----+\n",
            "|   4.0|     66.0|      70.0|    71.0|-5.0| 69.0|1023.0| 0.0|  SW|60.0|          0.0|  0.0|\n",
            "|   4.0|     67.0|      76.0|    72.0|-5.0| 69.0|1023.0| 0.0|  SW|62.0|          0.0|  0.0|\n",
            "|   4.0|     73.0|      78.0|    74.0|-4.0|74.41|1023.0| 0.0|  SW|65.0|          0.0|  0.0|\n",
            "|   4.0|     75.0|      77.0|    77.0|-4.0|80.04|1023.0|-1.0|  SW|68.0|          0.0|  0.0|\n",
            "|   4.0|     73.0|      78.0|    80.0|-4.0|80.04|1023.0|-1.0|  SW|70.0|          0.0|  0.0|\n",
            "+------+---------+----------+--------+----+-----+------+----+----+----+-------------+-----+\n",
            "only showing top 5 rows\n",
            "\n"
          ]
        },
        {
          "name": "stderr",
          "output_type": "stream",
          "text": [
            "                                                                                \r"
          ]
        }
      ],
      "source": [
        "df.show(5)"
      ]
    },
    {
      "cell_type": "markdown",
      "metadata": {},
      "source": [
        "<h3><b>MELIHAT DESKRIPSI DATASET</b></h3>"
      ]
    },
    {
      "cell_type": "code",
      "execution_count": 481,
      "metadata": {},
      "outputs": [
        {
          "name": "stderr",
          "output_type": "stream",
          "text": [
            "                                                                                \r"
          ]
        },
        {
          "data": {
            "text/html": [
              "<div>\n",
              "<style scoped>\n",
              "    .dataframe tbody tr th:only-of-type {\n",
              "        vertical-align: middle;\n",
              "    }\n",
              "\n",
              "    .dataframe tbody tr th {\n",
              "        vertical-align: top;\n",
              "    }\n",
              "\n",
              "    .dataframe thead th {\n",
              "        text-align: right;\n",
              "    }\n",
              "</style>\n",
              "<table border=\"1\" class=\"dataframe\">\n",
              "  <thead>\n",
              "    <tr style=\"text-align: right;\">\n",
              "      <th></th>\n",
              "      <th>summary</th>\n",
              "      <th>season</th>\n",
              "      <th>PM_Jingan</th>\n",
              "      <th>PM_US Post</th>\n",
              "      <th>PM_Xuhui</th>\n",
              "      <th>DEWP</th>\n",
              "      <th>HUMI</th>\n",
              "      <th>PRES</th>\n",
              "      <th>TEMP</th>\n",
              "      <th>cbwd</th>\n",
              "      <th>Iws</th>\n",
              "      <th>precipitation</th>\n",
              "      <th>Iprec</th>\n",
              "    </tr>\n",
              "  </thead>\n",
              "  <tbody>\n",
              "    <tr>\n",
              "      <th>0</th>\n",
              "      <td>count</td>\n",
              "      <td>21436</td>\n",
              "      <td>21436</td>\n",
              "      <td>21436</td>\n",
              "      <td>21436</td>\n",
              "      <td>21436</td>\n",
              "      <td>21436</td>\n",
              "      <td>21436</td>\n",
              "      <td>21436</td>\n",
              "      <td>21436</td>\n",
              "      <td>21436</td>\n",
              "      <td>21436</td>\n",
              "      <td>21436</td>\n",
              "    </tr>\n",
              "    <tr>\n",
              "      <th>1</th>\n",
              "      <td>mean</td>\n",
              "      <td>2.46911737264415</td>\n",
              "      <td>57.964545624183614</td>\n",
              "      <td>54.13463332711327</td>\n",
              "      <td>58.57170181003919</td>\n",
              "      <td>11.19401940660571</td>\n",
              "      <td>68.67215928686134</td>\n",
              "      <td>1016.0598992349319</td>\n",
              "      <td>17.61802575107296</td>\n",
              "      <td>None</td>\n",
              "      <td>48.276497480873296</td>\n",
              "      <td>0.13309852619688275</td>\n",
              "      <td>0.8714825523310599</td>\n",
              "    </tr>\n",
              "    <tr>\n",
              "      <th>2</th>\n",
              "      <td>stddev</td>\n",
              "      <td>1.1356873089307888</td>\n",
              "      <td>48.13816570718253</td>\n",
              "      <td>43.27717635642927</td>\n",
              "      <td>49.22551599499996</td>\n",
              "      <td>9.503135826817415</td>\n",
              "      <td>18.100382924812493</td>\n",
              "      <td>8.9562737630813</td>\n",
              "      <td>8.982793065352586</td>\n",
              "      <td>None</td>\n",
              "      <td>67.69839058412309</td>\n",
              "      <td>1.030225879947247</td>\n",
              "      <td>6.79496023499355</td>\n",
              "    </tr>\n",
              "    <tr>\n",
              "      <th>3</th>\n",
              "      <td>min</td>\n",
              "      <td>1.0</td>\n",
              "      <td>1.0</td>\n",
              "      <td>1.0</td>\n",
              "      <td>1.0</td>\n",
              "      <td>-17.0</td>\n",
              "      <td>13.09</td>\n",
              "      <td>990.0</td>\n",
              "      <td>-3.0</td>\n",
              "      <td>NE</td>\n",
              "      <td>0.0</td>\n",
              "      <td>0.0</td>\n",
              "      <td>0.0</td>\n",
              "    </tr>\n",
              "    <tr>\n",
              "      <th>4</th>\n",
              "      <td>max</td>\n",
              "      <td>4.0</td>\n",
              "      <td>607.0</td>\n",
              "      <td>514.0</td>\n",
              "      <td>636.0</td>\n",
              "      <td>28.0</td>\n",
              "      <td>100.0</td>\n",
              "      <td>1040.0</td>\n",
              "      <td>41.0</td>\n",
              "      <td>cv</td>\n",
              "      <td>608.0</td>\n",
              "      <td>61.6</td>\n",
              "      <td>226.4</td>\n",
              "    </tr>\n",
              "  </tbody>\n",
              "</table>\n",
              "</div>"
            ],
            "text/plain": [
              "  summary              season           PM_Jingan         PM_US Post  \\\n",
              "0   count               21436               21436              21436   \n",
              "1    mean    2.46911737264415  57.964545624183614  54.13463332711327   \n",
              "2  stddev  1.1356873089307888   48.13816570718253  43.27717635642927   \n",
              "3     min                 1.0                 1.0                1.0   \n",
              "4     max                 4.0               607.0              514.0   \n",
              "\n",
              "            PM_Xuhui               DEWP                HUMI  \\\n",
              "0              21436              21436               21436   \n",
              "1  58.57170181003919  11.19401940660571   68.67215928686134   \n",
              "2  49.22551599499996  9.503135826817415  18.100382924812493   \n",
              "3                1.0              -17.0               13.09   \n",
              "4              636.0               28.0               100.0   \n",
              "\n",
              "                 PRES               TEMP   cbwd                 Iws  \\\n",
              "0               21436              21436  21436               21436   \n",
              "1  1016.0598992349319  17.61802575107296   None  48.276497480873296   \n",
              "2     8.9562737630813  8.982793065352586   None   67.69839058412309   \n",
              "3               990.0               -3.0     NE                 0.0   \n",
              "4              1040.0               41.0     cv               608.0   \n",
              "\n",
              "         precipitation               Iprec  \n",
              "0                21436               21436  \n",
              "1  0.13309852619688275  0.8714825523310599  \n",
              "2    1.030225879947247    6.79496023499355  \n",
              "3                  0.0                 0.0  \n",
              "4                 61.6               226.4  "
            ]
          },
          "execution_count": 481,
          "metadata": {},
          "output_type": "execute_result"
        }
      ],
      "source": [
        "df.describe().toPandas()"
      ]
    },
    {
      "cell_type": "markdown",
      "metadata": {},
      "source": [
        "<h3><b>MELIHAT JUMLAH DATA UNIQUE TIAP KOLOM</b></h3>"
      ]
    },
    {
      "cell_type": "code",
      "execution_count": 482,
      "metadata": {},
      "outputs": [
        {
          "name": "stderr",
          "output_type": "stream",
          "text": [
            "                                                                                \r"
          ]
        },
        {
          "name": "stdout",
          "output_type": "stream",
          "text": [
            "Kolom 'season' Memiliki Jumlah Data Unique Sebanyak : 4\n"
          ]
        },
        {
          "name": "stderr",
          "output_type": "stream",
          "text": [
            "                                                                                \r"
          ]
        },
        {
          "name": "stdout",
          "output_type": "stream",
          "text": [
            "Kolom 'PM_Jingan' Memiliki Jumlah Data Unique Sebanyak : 339\n"
          ]
        },
        {
          "name": "stderr",
          "output_type": "stream",
          "text": [
            "                                                                                \r"
          ]
        },
        {
          "name": "stdout",
          "output_type": "stream",
          "text": [
            "Kolom 'PM_US Post' Memiliki Jumlah Data Unique Sebanyak : 310\n"
          ]
        },
        {
          "name": "stderr",
          "output_type": "stream",
          "text": [
            "                                                                                \r"
          ]
        },
        {
          "name": "stdout",
          "output_type": "stream",
          "text": [
            "Kolom 'PM_Xuhui' Memiliki Jumlah Data Unique Sebanyak : 340\n"
          ]
        },
        {
          "name": "stderr",
          "output_type": "stream",
          "text": [
            "                                                                                \r"
          ]
        },
        {
          "name": "stdout",
          "output_type": "stream",
          "text": [
            "Kolom 'DEWP' Memiliki Jumlah Data Unique Sebanyak : 46\n"
          ]
        },
        {
          "name": "stderr",
          "output_type": "stream",
          "text": [
            "                                                                                \r"
          ]
        },
        {
          "name": "stdout",
          "output_type": "stream",
          "text": [
            "Kolom 'HUMI' Memiliki Jumlah Data Unique Sebanyak : 826\n"
          ]
        },
        {
          "name": "stderr",
          "output_type": "stream",
          "text": [
            "                                                                                \r"
          ]
        },
        {
          "name": "stdout",
          "output_type": "stream",
          "text": [
            "Kolom 'PRES' Memiliki Jumlah Data Unique Sebanyak : 51\n"
          ]
        },
        {
          "name": "stderr",
          "output_type": "stream",
          "text": [
            "                                                                                \r"
          ]
        },
        {
          "name": "stdout",
          "output_type": "stream",
          "text": [
            "Kolom 'TEMP' Memiliki Jumlah Data Unique Sebanyak : 45\n"
          ]
        },
        {
          "name": "stderr",
          "output_type": "stream",
          "text": [
            "                                                                                \r"
          ]
        },
        {
          "name": "stdout",
          "output_type": "stream",
          "text": [
            "Kolom 'cbwd' Memiliki Jumlah Data Unique Sebanyak : 5\n"
          ]
        },
        {
          "name": "stderr",
          "output_type": "stream",
          "text": [
            "                                                                                \r"
          ]
        },
        {
          "name": "stdout",
          "output_type": "stream",
          "text": [
            "Kolom 'Iws' Memiliki Jumlah Data Unique Sebanyak : 429\n"
          ]
        },
        {
          "name": "stderr",
          "output_type": "stream",
          "text": [
            "                                                                                \r"
          ]
        },
        {
          "name": "stdout",
          "output_type": "stream",
          "text": [
            "Kolom 'precipitation' Memiliki Jumlah Data Unique Sebanyak : 128\n"
          ]
        },
        {
          "name": "stderr",
          "output_type": "stream",
          "text": [
            "[Stage 1687:>                                                       (0 + 1) / 1]\r"
          ]
        },
        {
          "name": "stdout",
          "output_type": "stream",
          "text": [
            "Kolom 'Iprec' Memiliki Jumlah Data Unique Sebanyak : 389\n"
          ]
        },
        {
          "name": "stderr",
          "output_type": "stream",
          "text": [
            "                                                                                \r"
          ]
        }
      ],
      "source": [
        "for x in df.columns:\n",
        "    print(f\"Kolom '{x}' Memiliki Jumlah Data Unique Sebanyak : {df.dropDuplicates([x]).select(x).count()}\")"
      ]
    },
    {
      "cell_type": "markdown",
      "metadata": {},
      "source": [
        "<h2><b>VISUALISASI DATA</b></h2>"
      ]
    },
    {
      "cell_type": "markdown",
      "metadata": {},
      "source": [
        "<h3><b>MELIHAT VISUALISASI DATA CORELASI ANTAR VARIABEL</b></h3>"
      ]
    },
    {
      "cell_type": "code",
      "execution_count": 483,
      "metadata": {},
      "outputs": [
        {
          "data": {
            "text/plain": [
              "['season',\n",
              " 'PM_Jingan',\n",
              " 'PM_US Post',\n",
              " 'PM_Xuhui',\n",
              " 'DEWP',\n",
              " 'HUMI',\n",
              " 'PRES',\n",
              " 'TEMP',\n",
              " 'Iws',\n",
              " 'precipitation',\n",
              " 'Iprec']"
            ]
          },
          "execution_count": 483,
          "metadata": {},
          "output_type": "execute_result"
        }
      ],
      "source": [
        "features = [col_name for col_name, col_type in df.dtypes if col_type in ['int', 'double','float']]\n",
        "features"
      ]
    },
    {
      "cell_type": "code",
      "execution_count": 484,
      "metadata": {},
      "outputs": [],
      "source": [
        "vector_assembler = VectorAssembler(inputCols=features, outputCol=\"features\")\n",
        "df_assembler = vector_assembler.transform(df).select(\"features\")"
      ]
    },
    {
      "cell_type": "code",
      "execution_count": 485,
      "metadata": {},
      "outputs": [
        {
          "name": "stderr",
          "output_type": "stream",
          "text": [
            "                                                                                \r"
          ]
        }
      ],
      "source": [
        "matrix = Correlation.corr(df_assembler,\"features\").head()"
      ]
    },
    {
      "cell_type": "code",
      "execution_count": 486,
      "metadata": {},
      "outputs": [
        {
          "data": {
            "image/png": "[encoded data removed]",
            "text/plain": [
              "<Figure size 800x600 with 2 Axes>"
            ]
          },
          "metadata": {},
          "output_type": "display_data"
        }
      ],
      "source": [
        "plt.figure(figsize=(8,6))\n",
        "sns.heatmap(pd.DataFrame(matrix[0].toArray(),columns=features,index=features),fmt='.2f',annot=True, xticklabels=features, yticklabels=features)\n",
        "plt.title(\"Memvisualisasikan Korelasi Antar Variabel Menggunakan Heatmap\")\n",
        "plt.show()"
      ]
    },
    {
      "cell_type": "markdown",
      "metadata": {},
      "source": [
        "<h2><b>BUILDING MODEL PREDICTION</b></h2>"
      ]
    }
  ],
  "metadata": {
    "colab": {
      "provenance": []
    },
    "kernelspec": {
      "display_name": "Python 3",
      "name": "python3"
    },
    "language_info": {
      "codemirror_mode": {
        "name": "ipython",
        "version": 3
      },
      "file_extension": ".py",
      "mimetype": "text/x-python",
      "name": "python",
      "nbconvert_exporter": "python",
      "pygments_lexer": "ipython3",
      "version": "3.10.10"
    }
  },
  "nbformat": 4,
  "nbformat_minor": 0
}
